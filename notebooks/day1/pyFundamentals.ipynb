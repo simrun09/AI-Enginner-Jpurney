{
 "cells": [
  {
   "cell_type": "code",
   "execution_count": 1,
   "id": "0ba8ba5e",
   "metadata": {},
   "outputs": [
    {
     "name": "stdout",
     "output_type": "stream",
     "text": [
      "Hii Simran\n"
     ]
    }
   ],
   "source": [
    "#print anything\n",
    "\n",
    "print(\"Hii Simran\")"
   ]
  },
  {
   "cell_type": "code",
   "execution_count": 2,
   "id": "487ccf93",
   "metadata": {},
   "outputs": [
    {
     "name": "stdout",
     "output_type": "stream",
     "text": [
      "hello 1 4.5 True\n"
     ]
    }
   ],
   "source": [
    "print(\"hello\",1,4.5,True)"
   ]
  },
  {
   "cell_type": "code",
   "execution_count": null,
   "id": "b41602ae",
   "metadata": {},
   "outputs": [
    {
     "name": "stdout",
     "output_type": "stream",
     "text": [
      "hello,1,4.5,True\n"
     ]
    }
   ],
   "source": [
    "#separator in print function\n",
    "print(\"hello\",1,4.5,True,sep=',')"
   ]
  },
  {
   "cell_type": "code",
   "execution_count": null,
   "id": "0d56e8c4",
   "metadata": {},
   "outputs": [
    {
     "name": "stdout",
     "output_type": "stream",
     "text": [
      "hello-world\n"
     ]
    }
   ],
   "source": [
    "#print in same line\n",
    "print(\"hello\",end='-')\n",
    "print('world')"
   ]
  },
  {
   "cell_type": "code",
   "execution_count": 6,
   "id": "136a9113",
   "metadata": {},
   "outputs": [
    {
     "name": "stdout",
     "output_type": "stream",
     "text": [
      "hello\n",
      "world\n"
     ]
    }
   ],
   "source": [
    "print(\"hello\")\n",
    "print(\"world\")"
   ]
  },
  {
   "cell_type": "code",
   "execution_count": 7,
   "id": "c9d2cd9f",
   "metadata": {},
   "outputs": [
    {
     "data": {
      "text/plain": [
       "(int, str, float, bool)"
      ]
     },
     "execution_count": 7,
     "metadata": {},
     "output_type": "execute_result"
    }
   ],
   "source": [
    "#type of data\n",
    "type(10), type(\"heelo\"), type(4.5), type(True)"
   ]
  },
  {
   "cell_type": "markdown",
   "id": "4d1a1556",
   "metadata": {},
   "source": [
    "### Q1 :- Print the given strings as per stated format.\n",
    "\n",
    "**Given strings**:\n",
    "```\n",
    "\"Data\" \"Science\" \"Mentorship\" \"Program\"\n",
    "\"By\" \"CampusX\"\n",
    "```\n",
    "**Output**:\n",
    "```\n",
    "Data-Science-Mentorship-Program-started-By-CampusX\n",
    "```\n",
    "\n",
    "Concept- [Seperator and End]"
   ]
  },
  {
   "cell_type": "code",
   "execution_count": null,
   "id": "0f334e12",
   "metadata": {},
   "outputs": [
    {
     "name": "stdout",
     "output_type": "stream",
     "text": [
      "Data-Science-Mentorship-Program-started-By-CampusX\n"
     ]
    }
   ],
   "source": [
    "# Task 1\n",
    "# Question 1\n",
    "print(\"Data\", \"Science\", \"Mentorship\", \"Program\", sep='-', end='-started-')\n",
    "print(\"By\", \"CampusX\", sep='-')\n",
    "\n"
   ]
  },
  {
   "cell_type": "markdown",
   "id": "5adadb26",
   "metadata": {},
   "source": [
    "### Q2:- Write a program that will convert celsius value to fahrenheit."
   ]
  },
  {
   "cell_type": "code",
   "execution_count": null,
   "id": "0308b80f",
   "metadata": {},
   "outputs": [],
   "source": [
    "# Question 2: Celsius to Fahrenheit Conversion\n",
    "\n",
    "celsius_value=float(input(\"Enter value in Celsius: \"))\n",
    "fahrenheit_value=(celsius_value*(9/5))+32\n",
    "print(fahrenheit_value)"
   ]
  },
  {
   "cell_type": "markdown",
   "id": "be86bca3",
   "metadata": {},
   "source": [
    "### Q3:- Take 2 numbers as input from the user.Write a program to swap the numbers without using any special python syntax."
   ]
  },
  {
   "cell_type": "code",
   "execution_count": null,
   "id": "c19f4a57",
   "metadata": {},
   "outputs": [
    {
     "name": "stdout",
     "output_type": "stream",
     "text": [
      "10 27\n",
      "27 10\n"
     ]
    }
   ],
   "source": [
    "# Question 3: Swap Two Numbers\n",
    "\n",
    "fnum=int(input(\"Enter the first number: \"))\n",
    "snum=int(input(\"Enter the second number: \"))\n",
    "print(fnum,snum)\n",
    "temp=fnum\n",
    "fnum=snum\n",
    "snum=temp\n",
    "print(fnum,snum)"
   ]
  },
  {
   "cell_type": "markdown",
   "id": "7fd3b447",
   "metadata": {},
   "source": [
    "### Q4:- Write a program to find the euclidean distance between two coordinates.Take both the coordinates from the user as input."
   ]
  },
  {
   "cell_type": "code",
   "execution_count": 14,
   "id": "7d223377",
   "metadata": {},
   "outputs": [
    {
     "name": "stdout",
     "output_type": "stream",
     "text": [
      "2.8284271247461903\n"
     ]
    }
   ],
   "source": [
    "# Question 4: Find Euclidean distance between two points taking coordinates as input\n",
    "import math\n",
    "x1=float(input(\"Enter x1: \"))\n",
    "y1=float(input(\"Enter y1: \"))\n",
    "x2=float(input(\"Enter x2: \"))    \n",
    "y2=float(input(\"Enter y2: \"))\n",
    "print(math.pow(math.pow(x2-x1,2)+math.pow(y2-y1,2),0.5))"
   ]
  },
  {
   "cell_type": "code",
   "execution_count": 15,
   "id": "35aca55f",
   "metadata": {},
   "outputs": [
    {
     "name": "stdout",
     "output_type": "stream",
     "text": [
      "5.656854249492381\n"
     ]
    }
   ],
   "source": [
    "import math\n",
    "x1,y1=map(float, input(\"Enter x1 and y1: \").split(' '))\n",
    "x2,y2=map(float, input(\"Enter x2 and y2: \").split(' '))\n",
    "print(math.pow(math.pow(x2-x1,2)+math.pow(y2-y1,2),0.5))"
   ]
  },
  {
   "cell_type": "markdown",
   "id": "576df5ed",
   "metadata": {},
   "source": [
    "### Q5:- Write a program to find the simple interest when the value of principle,rate of interest and time period is provided by the user."
   ]
  },
  {
   "cell_type": "code",
   "execution_count": 16,
   "id": "91f0c818",
   "metadata": {},
   "outputs": [
    {
     "name": "stdout",
     "output_type": "stream",
     "text": [
      "500.0\n"
     ]
    }
   ],
   "source": [
    "principle,rate,time=map(float, input(\"Enter principle,rate and time: \").split(' '))\n",
    "simple_interest=(principle*rate*time)/100\n",
    "print(simple_interest)"
   ]
  },
  {
   "cell_type": "markdown",
   "id": "5479b96f",
   "metadata": {},
   "source": [
    "### Q6:- Write a program that will tell the number of dogs and chicken are there when the user will provide the value of total heads and legs.\n",
    "\n",
    "For example:\n",
    "Input:\n",
    "heads -> 4\n",
    "legs -> 12\n",
    "<br>\n",
    "Output:\n",
    "dogs -> 2\n",
    "chicken -> 2"
   ]
  },
  {
   "cell_type": "code",
   "execution_count": 19,
   "id": "0e9132ba",
   "metadata": {},
   "outputs": [
    {
     "name": "stdout",
     "output_type": "stream",
     "text": [
      "no of chickens are: 2\n",
      "no of dogs are: 2\n"
     ]
    }
   ],
   "source": [
    "# Question 6: There are chickens and dogs in a farm. If there are a total of 'x' heads and 'y' legs, how many chickens and dogs are there? (Assume there are no other animals)\n",
    "x= int(input(\"enter total heads:\"))\n",
    "y= int(input(\"total no of legs: \"))\n",
    "dh=(y-2*x)/2\n",
    "ch= x-dh\n",
    "print(\"no of chickens are:\",int(ch))\n",
    "print(\"no of dogs are:\",int(dh))\n"
   ]
  },
  {
   "cell_type": "markdown",
   "id": "1a9a520d",
   "metadata": {},
   "source": [
    "### Q7:- Write a program to find the sum of squares of first n natural numbers where n will be provided by the user."
   ]
  },
  {
   "cell_type": "code",
   "execution_count": null,
   "id": "5c436766",
   "metadata": {},
   "outputs": [
    {
     "name": "stdout",
     "output_type": "stream",
     "text": [
      "30\n"
     ]
    }
   ],
   "source": [
    "n=int(input(\"Enter the number of terms: \"))\n",
    "sum=0\n",
    "for i in range(n+1):\n",
    "    sum+=i**2\n",
    "print(sum)"
   ]
  },
  {
   "cell_type": "code",
   "execution_count": 24,
   "id": "dc8e9c3f",
   "metadata": {},
   "outputs": [
    {
     "name": "stdout",
     "output_type": "stream",
     "text": [
      "30\n"
     ]
    }
   ],
   "source": [
    "n=int(input(\"Enter the number of terms: \"))\n",
    "sum= n*(n+1)*(2*n+1)/6\n",
    "print(int(sum))"
   ]
  },
  {
   "cell_type": "markdown",
   "id": "59df1e15",
   "metadata": {},
   "source": [
    "### Q8:- Given the first 2 terms of an Arithmetic Series.Find the Nth term of the series. Assume all inputs are provided by the user."
   ]
  },
  {
   "cell_type": "code",
   "execution_count": 25,
   "id": "134cc225",
   "metadata": {},
   "outputs": [
    {
     "name": "stdout",
     "output_type": "stream",
     "text": [
      "29\n"
     ]
    }
   ],
   "source": [
    "a0=int(input(\"Enter the first term: \"))\n",
    "a1=int(input(\"Ennter the second term: \"))\n",
    "n=int(input(\"Enter the number of terms: \"))\n",
    "d=a1-a0\n",
    "an=a0+(n-1)*d\n",
    "print(an)"
   ]
  },
  {
   "cell_type": "markdown",
   "id": "44e5ec47",
   "metadata": {},
   "source": [
    "### Q9:- Given 2 fractions, find the sum of those 2 fractions.Take the numerator and denominator values of the fractions from the user."
   ]
  },
  {
   "cell_type": "code",
   "execution_count": 26,
   "id": "96b9b180",
   "metadata": {},
   "outputs": [
    {
     "name": "stdout",
     "output_type": "stream",
     "text": [
      "20/25\n"
     ]
    }
   ],
   "source": [
    "n1,d1=map(int, input(\"Enter numerator and denominator of first fraction: \").split('/'))\n",
    "n2,d2=map(int, input(\"Enter numerator and denominator of second fraction: \").split('/'))\n",
    "num=n1*d2+n2*d1\n",
    "den=d1*d2\n",
    "print(f\"{num}/{den}\")"
   ]
  },
  {
   "cell_type": "markdown",
   "id": "b4d75bee",
   "metadata": {},
   "source": [
    "### Q10:- Given the height, width and breadth of a milk tank, you have to find out how many glasses of milk can be obtained? Assume all the inputs are provided by the user.\n",
    "\n",
    "\n",
    "\n",
    "Input:<br>\n",
    "Dimensions of the milk tank<br>\n",
    "H = 20cm, L = 20cm, B = 20cm\n",
    "<br><br>\n",
    "Dimensions of the glass<br>\n",
    "h = 3cm, r = 1cm"
   ]
  },
  {
   "cell_type": "code",
   "execution_count": 27,
   "id": "60dcfe27",
   "metadata": {},
   "outputs": [
    {
     "name": "stdout",
     "output_type": "stream",
     "text": [
      "127\n"
     ]
    }
   ],
   "source": [
    "import math\n",
    "H,L,B=map(float, input(\"Enter height, length and breadth: \").split(' '))\n",
    "h,r=map(float, input(\"Enter height and radius: \").split(' '))\n",
    "volume_tank=H*L*B\n",
    "volume_glass=math.pi*r**2*H\n",
    "no_of_glasses=volume_tank/volume_glass\n",
    "print(int(no_of_glasses))"
   ]
  },
  {
   "cell_type": "markdown",
   "id": "7252da53",
   "metadata": {},
   "source": [
    "## Sum of digits of a 3 digit number given by user"
   ]
  },
  {
   "cell_type": "code",
   "execution_count": 32,
   "id": "52747d16",
   "metadata": {},
   "outputs": [
    {
     "name": "stdout",
     "output_type": "stream",
     "text": [
      "245\n",
      "11\n"
     ]
    }
   ],
   "source": [
    "num=int(input(\"Enter a 3 digit number : \"))\n",
    "print(num)\n",
    "sum=0\n",
    "while num!=0:\n",
    "    rem=num%10\n",
    "    sum+=rem\n",
    "    num=num//10\n",
    "print(sum)"
   ]
  },
  {
   "cell_type": "markdown",
   "id": "697dbd38",
   "metadata": {},
   "source": [
    "## "
   ]
  },
  {
   "cell_type": "code",
   "execution_count": null,
   "id": "8072c1c4",
   "metadata": {},
   "outputs": [
    {
     "name": "stdout",
     "output_type": "stream",
     "text": [
      "login successful\n"
     ]
    }
   ],
   "source": [
    "# two possibilities\n",
    "email=input(\"enter email: \")\n",
    "password=input(\"enter password: \")\n",
    "if email=='simran@gmail.com' and password=='@1234':\n",
    "    print(\"login successful\")\n",
    "else:\n",
    "    print(\"Not correct\")"
   ]
  },
  {
   "cell_type": "code",
   "execution_count": 35,
   "id": "ce6c6d00",
   "metadata": {},
   "outputs": [
    {
     "name": "stdout",
     "output_type": "stream",
     "text": [
      "Incorrect password\n",
      "Welome, finally!\n"
     ]
    }
   ],
   "source": [
    "#three possibilities\n",
    "email=input(\"enter email: \")\n",
    "password=input(\"enter password: \")\n",
    "if email=='simran@gmail.com' and password=='@1234':\n",
    "    print(\"login successful\")\n",
    "elif email=='simran@gmail.com' and password!='@1234':\n",
    "    print(\"Incorrect password\")\n",
    "    password=input(\"Enter password again\")\n",
    "    if password=='@1234':\n",
    "        print(\"Welome, finally!\")\n",
    "    else:\n",
    "        print(\"You are incorrect again, try later\")\n",
    "\n",
    "else:\n",
    "    print(\"Not correct\")"
   ]
  },
  {
   "cell_type": "code",
   "execution_count": null,
   "id": "5eba6f0c",
   "metadata": {},
   "outputs": [
    {
     "name": "stdout",
     "output_type": "stream",
     "text": [
      "3\n"
     ]
    }
   ],
   "source": [
    "# find min of 3 numbers\n",
    "num1=int(input(\"Enter first number: \"))\n",
    "num2=int(input(\"Enter second number: \"))\n",
    "num3=int(input(\"Enter third number: \"))\n",
    "if num1<num2 and num1<num3:\n",
    "    print(num1)\n",
    "elif num2<num3:\n",
    "    print(num2)\n",
    "else:\n",
    "    print(num3)"
   ]
  },
  {
   "cell_type": "code",
   "execution_count": 38,
   "id": "fd465256",
   "metadata": {},
   "outputs": [
    {
     "name": "stdout",
     "output_type": "stream",
     "text": [
      "11\n"
     ]
    }
   ],
   "source": [
    "#menu-driven calculator\n",
    "\n",
    "fnum=int(input(\"enter the first number: \"))\n",
    "snum=int(input(\"enter the second number: \"))\n",
    "\n",
    "op=input(\"enter the operation to be performed (+,-,*,/): \")\n",
    "if op=='+':\n",
    "    print(fnum+snum)\n",
    "elif op=='-':\n",
    "    print(fnum-snum)\n",
    "elif op=='*':\n",
    "    print(fnum*snum)\n",
    "else:\n",
    "    print(fnum/snum)\n"
   ]
  },
  {
   "cell_type": "code",
   "execution_count": 40,
   "id": "fa380ea6",
   "metadata": {},
   "outputs": [
    {
     "name": "stdout",
     "output_type": "stream",
     "text": [
      "withdrawal successful\n"
     ]
    }
   ],
   "source": [
    "menu=input(\"\"\"\n",
    "           Hii, how can I help you?\n",
    "1. Enter 1 for pin change\n",
    "2. Enter 2 for checking balance\n",
    "3. Enter 3 for withdrawal\n",
    "4. Enter 4 for exit\n",
    " \"\"\")\n",
    "if menu=='1':\n",
    "    print(\"pin changed\")\n",
    "elif menu=='2':\n",
    "    print(\"Balance\")\n",
    "elif menu=='3':\n",
    "    print(\"withdrawal successful\")\n",
    "else:\n",
    "    print(\"exit\")"
   ]
  },
  {
   "cell_type": "code",
   "execution_count": 45,
   "id": "ca7ebf0f",
   "metadata": {},
   "outputs": [
    {
     "name": "stdout",
     "output_type": "stream",
     "text": [
      "11 * 1 = 11\n",
      "11 * 2 = 22\n",
      "11 * 3 = 33\n",
      "11 * 4 = 44\n",
      "11 * 5 = 55\n",
      "11 * 6 = 66\n",
      "11 * 7 = 77\n",
      "11 * 8 = 88\n",
      "11 * 9 = 99\n",
      "11 * 10 = 110\n"
     ]
    }
   ],
   "source": [
    "# program to print the table of a number\n",
    "number=int(input(\"Enter a number: \"))\n",
    "i=1\n",
    "while i!=11:\n",
    "    print(f\"{number} * {i} = {number*i}\")\n",
    "    i+=1\n"
   ]
  },
  {
   "cell_type": "code",
   "execution_count": 48,
   "id": "e6bb3972",
   "metadata": {},
   "outputs": [
    {
     "name": "stdout",
     "output_type": "stream",
     "text": [
      "1\n",
      "2\n",
      "Limit crossed\n"
     ]
    }
   ],
   "source": [
    "# while with else\n",
    "x=1\n",
    "while x<3:\n",
    "    print(x)\n",
    "    x+=1\n",
    "else:\n",
    "    print(\"Limit crossed\")"
   ]
  },
  {
   "cell_type": "code",
   "execution_count": 54,
   "id": "9b217167",
   "metadata": {},
   "outputs": [
    {
     "name": "stdout",
     "output_type": "stream",
     "text": [
      "Too low!\n",
      "Too high!\n",
      "Too low!\n",
      "Too high!\n",
      "You win!\n",
      "5\n"
     ]
    }
   ],
   "source": [
    "# guessing game\n",
    "import random\n",
    "jackpot=random.randint(1,100)\n",
    "guess=int(input(\"Guess a number between 1 to 100: \"))\n",
    "counter=1\n",
    "while guess!=jackpot:\n",
    "    if guess<jackpot:\n",
    "        print(\"Too low!\")\n",
    "        guess=int(input(\"Guess again: \"))\n",
    "    elif guess>jackpot:\n",
    "        print(\"Too high!\")\n",
    "        guess=int(input(\"Guess again: \"))\n",
    "    counter+=1\n",
    "else:\n",
    "    print(f\"You win!\")\n",
    "    print(counter)"
   ]
  },
  {
   "cell_type": "markdown",
   "id": "ea4461b7",
   "metadata": {},
   "source": [
    "## The current population of a town is 10000. The population of the town is increasing at the rate of 10% per year. Write a program to find population at the end of each of the last 10 years "
   ]
  },
  {
   "cell_type": "code",
   "execution_count": 56,
   "id": "330fbd47",
   "metadata": {},
   "outputs": [
    {
     "name": "stdout",
     "output_type": "stream",
     "text": [
      "9000.0\n",
      "8100.0\n",
      "7290.0\n",
      "6561.0\n",
      "5904.9\n",
      "5314.41\n",
      "4782.969\n",
      "4304.6721\n",
      "3874.20489\n"
     ]
    }
   ],
   "source": [
    "current_pop=10000\n",
    "r=10\n",
    "for i in range(10,1,-1):\n",
    "    current_pop=current_pop-0.1*current_pop\n",
    "    print(current_pop)"
   ]
  },
  {
   "cell_type": "code",
   "execution_count": null,
   "id": "0302a24a",
   "metadata": {},
   "outputs": [],
   "source": []
  }
 ],
 "metadata": {
  "kernelspec": {
   "display_name": ".venv (3.13.1)",
   "language": "python",
   "name": "python3"
  },
  "language_info": {
   "codemirror_mode": {
    "name": "ipython",
    "version": 3
   },
   "file_extension": ".py",
   "mimetype": "text/x-python",
   "name": "python",
   "nbconvert_exporter": "python",
   "pygments_lexer": "ipython3",
   "version": "3.13.1"
  }
 },
 "nbformat": 4,
 "nbformat_minor": 5
}
