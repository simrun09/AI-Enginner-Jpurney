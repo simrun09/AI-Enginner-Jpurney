{
 "cells": [
  {
   "cell_type": "markdown",
   "id": "22b79374",
   "metadata": {},
   "source": [
    "## Problem 1: Write a program that will give you in hand monthly salary after deduction on CTC - HRA(10%), DA(5%), PF(3%) and taxes deduction as below:\n",
    "Salary(Lakhs) : Tax(%)\n",
    "\n",
    "Below 5 : 0%\n",
    "5-10 : 10%\n",
    "10-20 : 20%\n",
    "aboove 20 : 30%"
   ]
  },
  {
   "cell_type": "code",
   "execution_count": 1,
   "id": "067fff35",
   "metadata": {},
   "outputs": [
    {
     "name": "stdout",
     "output_type": "stream",
     "text": [
      "1599760.0\n"
     ]
    }
   ],
   "source": [
    "ctc=int(input(\"Enter your CTC: \"))\n",
    "hra=10\n",
    "da=5\n",
    "pf=3\n",
    "salary_before_tax=ctc-ctc*0.1*0.05*0.03\n",
    "if salary_before_tax<500000:\n",
    "    tax=0\n",
    "    inhand_salary=salary_before_tax\n",
    "elif salary_before_tax<=1000000:\n",
    "    tax=salary_before_tax*0.1\n",
    "    inhand_salary=salary_before_tax-tax\n",
    "elif salary_before_tax<=2000000:\n",
    "    tax=salary_before_tax*0.2\n",
    "    inhand_salary=salary_before_tax-tax\n",
    "else:\n",
    "    tax=salary_before_tax*0.3\n",
    "    inhand_salary=salary_before_tax-tax\n",
    "print(inhand_salary)\n"
   ]
  },
  {
   "cell_type": "markdown",
   "id": "bd62311f",
   "metadata": {},
   "source": [
    "## Problem 2: Write a program that take a user input of three angles and will find out whether it can form a triangle or not."
   ]
  },
  {
   "cell_type": "code",
   "execution_count": 4,
   "id": "c7e01d67",
   "metadata": {},
   "outputs": [
    {
     "name": "stdout",
     "output_type": "stream",
     "text": [
      "Yes, it can form a triangle\n"
     ]
    }
   ],
   "source": [
    "A=float(input(\"Enter angle A: \"))\n",
    "B=float(input(\"Enter angle B: \"))\n",
    "C=float(input(\"Enter angle C: \"))\n",
    "if A+B+C==180:\n",
    "    print(\"Yes, it can form a triangle\")\n",
    "else:\n",
    "    print(\"No, it cannot form a triangle\")"
   ]
  },
  {
   "cell_type": "markdown",
   "id": "c61a93b6",
   "metadata": {},
   "source": [
    "## Problem 3: Write a program that will take user input of cost price and selling price and determines whether its a loss or a profit."
   ]
  },
  {
   "cell_type": "code",
   "execution_count": 5,
   "id": "593d87bf",
   "metadata": {},
   "outputs": [
    {
     "name": "stdout",
     "output_type": "stream",
     "text": [
      "Profit of: 200.0\n"
     ]
    }
   ],
   "source": [
    "CP=float(input(\"Enter Cost Price: \"))\n",
    "SP=float(input(\"Enter Selling Price: \"))\n",
    "if CP>SP:\n",
    "    loss=CP-SP\n",
    "    print(\"Loss of:\",loss)\n",
    "elif SP>CP:\n",
    "    profit=SP-CP\n",
    "    print(\"Profit of:\",profit)"
   ]
  },
  {
   "cell_type": "markdown",
   "id": "d5dfe574",
   "metadata": {},
   "source": [
    "## Problem 4: Write a menu-driven program -\n",
    "cm to ft\n",
    "\n",
    "km to miles\n",
    "\n",
    "USD to INR\n",
    "\n",
    "exit"
   ]
  },
  {
   "cell_type": "code",
   "execution_count": 9,
   "id": "063f9841",
   "metadata": {},
   "outputs": [
    {
     "name": "stdout",
     "output_type": "stream",
     "text": [
      "Length in ft: 3.2808398950131235\n"
     ]
    }
   ],
   "source": [
    "option=input(\"Choose an option:\\n1. cm to ft\\n2. km to miles\\n3. USD to INR\\n4. exit\\n\")\n",
    "if option=='1':\n",
    "    cm=float(input(\"Enter length in cm: \"))\n",
    "    ft=cm/30.48\n",
    "    print(\"Length in ft:\",ft)\n",
    "elif option=='2':\n",
    "    km=float(input(\"Enter distance in km: \"))\n",
    "    miles=km*0.621371\n",
    "    print(\"Distance in miles:\",miles)\n",
    "elif option=='3':\n",
    "    usd=float(input(\"Enter amount in USD: \"))\n",
    "    inr=usd*82.74\n",
    "    print(\"Amount in INR:\",inr)\n",
    "else:\n",
    "    print(\"Exit\")"
   ]
  },
  {
   "cell_type": "markdown",
   "id": "f4d8f6f7",
   "metadata": {},
   "source": [
    "## Problem 5 - Exercise 12: Display Fibonacci series up to 10 terms.\n",
    "Note: The Fibonacci Sequence is a series of numbers. The next number is found by adding up the two numbers before it. The first two numbers are 0 and 1. For example, 0, 1, 1, 2, 3, 5, 8, 13, 21. The next number in this series above is 13+21 = 34"
   ]
  },
  {
   "cell_type": "code",
   "execution_count": 10,
   "id": "ac2715be",
   "metadata": {},
   "outputs": [
    {
     "name": "stdout",
     "output_type": "stream",
     "text": [
      "0\n",
      "1\n",
      "1\n",
      "2\n",
      "3\n",
      "5\n",
      "8\n",
      "13\n",
      "21\n",
      "34\n"
     ]
    }
   ],
   "source": [
    "a0=0\n",
    "a1=1\n",
    "print(a0)\n",
    "print(a1)\n",
    "for i in range(2,10):\n",
    "    a2=a0+a1\n",
    "    print(a2)\n",
    "    a0=a1\n",
    "    a1=a2\n"
   ]
  },
  {
   "cell_type": "markdown",
   "id": "39b00399",
   "metadata": {},
   "source": [
    "## Problem 6 - Find the factorial of a given number.\n",
    "Write a program to use the loop to find the factorial of a given number.\n",
    "\n",
    "The factorial (symbol: !) means to multiply all whole numbers from the chosen number down to 1.\n",
    "\n",
    "For example: calculate the factorial of 5"
   ]
  },
  {
   "cell_type": "code",
   "execution_count": 13,
   "id": "d8a42744",
   "metadata": {},
   "outputs": [
    {
     "name": "stdout",
     "output_type": "stream",
     "text": [
      "factorial of 6 is 720\n"
     ]
    }
   ],
   "source": [
    "n=int(input(\"Enter angle 1: \"))\n",
    "if n==0 or n==1:\n",
    "    print(\"factorial of {n} is 1\")\n",
    "else:\n",
    "    fact=1\n",
    "    for i in range(1,n+1):\n",
    "        fact*=i\n",
    "    print(f\"factorial of {n} is {fact}\")\n"
   ]
  },
  {
   "cell_type": "markdown",
   "id": "c5411d0e",
   "metadata": {},
   "source": [
    "# Problem 7 - Reverse a given integer number."
   ]
  },
  {
   "cell_type": "code",
   "execution_count": 14,
   "id": "301ccae0",
   "metadata": {},
   "outputs": [
    {
     "name": "stdout",
     "output_type": "stream",
     "text": [
      "765432\n"
     ]
    }
   ],
   "source": [
    "number=int(input(\"Enter a number: \"))\n",
    "number_strtype=str(number)\n",
    "rev_number=number_strtype[::-1]\n",
    "print(int(rev_number))"
   ]
  },
  {
   "cell_type": "markdown",
   "id": "964b21c5",
   "metadata": {},
   "source": [
    "## Problem 8: Take a user input as integer N. Find out the sum from 1 to N. If any number if divisible by 5, then skip that number. And if the sum is greater than 300, don't need to calculate the sum further more. Print the final result. And don't use for loop to solve this problem."
   ]
  },
  {
   "cell_type": "code",
   "execution_count": 17,
   "id": "5e70015d",
   "metadata": {},
   "outputs": [
    {
     "name": "stdout",
     "output_type": "stream",
     "text": [
      "36000\n"
     ]
    }
   ],
   "source": [
    "N=int(input(\"Enter a number: \"))\n",
    "threshold=300\n",
    "sum=0\n",
    "i=1\n",
    "if N<threshold:\n",
    "    sum_upto=N\n",
    "else:\n",
    "    sum_upto=threshold\n",
    "while i<=sum_upto:\n",
    "    if i%5==0:\n",
    "        pass\n",
    "    else:\n",
    "        sum+=i\n",
    "    i+=1\n",
    "print(sum)\n"
   ]
  },
  {
   "cell_type": "markdown",
   "id": "b85fd16e",
   "metadata": {},
   "source": [
    "## Problem 9: Write a program that keeps on accepting a number from the user until the user enters Zero. Display the sum and average of all the numbers."
   ]
  },
  {
   "cell_type": "code",
   "execution_count": 22,
   "id": "1066a406",
   "metadata": {},
   "outputs": [
    {
     "name": "stdout",
     "output_type": "stream",
     "text": [
      "22 7.333333333333333\n"
     ]
    }
   ],
   "source": [
    "user_input=int(input(\"Enter a number (0 to stop): \"))\n",
    "counter=0\n",
    "sum=0\n",
    "while user_input!=0:\n",
    "    sum+=user_input\n",
    "    counter+=1\n",
    "    avg=sum/counter\n",
    "    user_input=int(input(\"Enter a number (0 to stop): \"))\n",
    "print(sum,avg)"
   ]
  },
  {
   "cell_type": "markdown",
   "id": "84e25c60",
   "metadata": {},
   "source": [
    "## Problem 9: Write a program which will find all such numbers which are divisible by 7 but are not a multiple of 5, between 2000 and 3200 (both included). The numbers obtained should be printed in a comma-separated sequence on a single line."
   ]
  },
  {
   "cell_type": "code",
   "execution_count": 23,
   "id": "2c635153",
   "metadata": {},
   "outputs": [
    {
     "name": "stdout",
     "output_type": "stream",
     "text": [
      "2002,2009,2016,2023,2037,2044,2051,2058,2072,2079,2086,2093,2107,2114,2121,2128,2142,2149,2156,2163,2177,2184,2191,2198,2212,2219,2226,2233,2247,2254,2261,2268,2282,2289,2296,2303,2317,2324,2331,2338,2352,2359,2366,2373,2387,2394,2401,2408,2422,2429,2436,2443,2457,2464,2471,2478,2492,2499,2506,2513,2527,2534,2541,2548,2562,2569,2576,2583,2597,2604,2611,2618,2632,2639,2646,2653,2667,2674,2681,2688,2702,2709,2716,2723,2737,2744,2751,2758,2772,2779,2786,2793,2807,2814,2821,2828,2842,2849,2856,2863,2877,2884,2891,2898,2912,2919,2926,2933,2947,2954,2961,2968,2982,2989,2996,3003,3017,3024,3031,3038,3052,3059,3066,3073,3087,3094,3101,3108,3122,3129,3136,3143,3157,3164,3171,3178,3192,3199,"
     ]
    }
   ],
   "source": [
    "for i in range(2000,3201):\n",
    "    if i%7==0 and i%5!=0:\n",
    "        print(i, end=',')"
   ]
  },
  {
   "cell_type": "markdown",
   "id": "d8b41f89",
   "metadata": {},
   "source": [
    "## Problem 10: Write a program, which will find all such numbers between 1000 and 3000 (both included) such that each digit of the number is an even number. The numbers obtained should be printed in a space-separated sequence on a single line."
   ]
  },
  {
   "cell_type": "code",
   "execution_count": 30,
   "id": "43b3858b",
   "metadata": {},
   "outputs": [
    {
     "name": "stdout",
     "output_type": "stream",
     "text": [
      "2000 2002 2004 2006 2008 2020 2022 2024 2026 2028 2040 2042 2044 2046 2048 2060 2062 2064 2066 2068 2080 2082 2084 2086 2088 2200 2202 2204 2206 2208 2220 2222 2224 2226 2228 2240 2242 2244 2246 2248 2260 2262 2264 2266 2268 2280 2282 2284 2286 2288 2400 2402 2404 2406 2408 2420 2422 2424 2426 2428 2440 2442 2444 2446 2448 2460 2462 2464 2466 2468 2480 2482 2484 2486 2488 2600 2602 2604 2606 2608 2620 2622 2624 2626 2628 2640 2642 2644 2646 2648 2660 2662 2664 2666 2668 2680 2682 2684 2686 2688 2800 2802 2804 2806 2808 2820 2822 2824 2826 2828 2840 2842 2844 2846 2848 2860 2862 2864 2866 2868 2880 2882 2884 2886 2888 "
     ]
    }
   ],
   "source": [
    "for i in range(1000,3001):\n",
    "    num=i\n",
    "    while num!=0:\n",
    "        all_even=True\n",
    "        digit=num%10\n",
    "        num=num//10\n",
    "        if digit%2!=0:\n",
    "            all_even=False\n",
    "            break\n",
    "    if all_even:\n",
    "        print(i, end=' ')\n",
    "\n",
    "\n"
   ]
  },
  {
   "cell_type": "markdown",
   "id": "5a9603f2",
   "metadata": {},
   "source": [
    "## Problem 11: A robot moves in a plane starting from the original point (0,0). The robot can move toward UP, DOWN, LEFT and RIGHT with a given steps.\n",
    "The trace of robot movement is shown as the following:\n",
    "\n",
    "UP 5\n",
    "DOWN 3\n",
    "LEFT 3\n",
    "RIGHT 2\n",
    "!\n",
    "The numbers after the direction are steps.\n",
    "\n",
    "! means robot stop there.\n",
    "\n",
    "Please write a program to compute the distance from current position after a sequence of movement and original point.\n",
    "\n",
    "If the distance is a float, then just print the nearest integer.\n",
    "\n",
    "Example:\n",
    "\n",
    "Input:\n",
    "\n",
    "UP 5\n",
    "DOWN 3\n",
    "LEFT 3\n",
    "RIGHT 2\n",
    "!\n",
    "Output:\n",
    "\n",
    "2"
   ]
  },
  {
   "cell_type": "code",
   "execution_count": 32,
   "id": "24b82671",
   "metadata": {},
   "outputs": [
    {
     "name": "stdout",
     "output_type": "stream",
     "text": [
      "2\n"
     ]
    }
   ],
   "source": [
    "import math\n",
    "up=int(input(\"UP \"))\n",
    "down=int(input(\"DOWN \"))\n",
    "left=int(input(\"LEFT \"))\n",
    "right=int(input(\"RIGHT \"))\n",
    "dist=math.pow(math.pow(up-down,2)+math.pow(right-left,2),0.5)\n",
    "int_dist=math.floor(dist)\n",
    "print(int_dist)\n"
   ]
  },
  {
   "cell_type": "markdown",
   "id": "d6bfd8b1",
   "metadata": {},
   "source": [
    "## Problem 12:Write a program to print whether a given number is a prime number or not"
   ]
  },
  {
   "cell_type": "code",
   "execution_count": 37,
   "id": "42e6e4bd",
   "metadata": {},
   "outputs": [
    {
     "name": "stdout",
     "output_type": "stream",
     "text": [
      "7 is prime\n"
     ]
    }
   ],
   "source": [
    "num=int(input(\"Enter a number: \"))\n",
    "if num<2:\n",
    "    print(f\"{number} is not prime\")\n",
    "prime=True\n",
    "for i in range(2,num):\n",
    "        if num%i==0:\n",
    "            prime=False\n",
    "            break\n",
    "if prime:\n",
    "    print(f\"{num} is prime\")\n",
    "else:\n",
    "    print(f\"{num} is not prime\")\n"
   ]
  },
  {
   "cell_type": "markdown",
   "id": "ffc9f5fd",
   "metadata": {},
   "source": [
    "## Problem 13:Print all the Armstrong numbers in a given range.\n",
    "Range will be provided by the user\n",
    "Armstrong number is a number that is equal to the sum of cubes of its digits. For example 0, 1, 153, 370, 371 and 407 are the Armstrong numbers."
   ]
  },
  {
   "cell_type": "code",
   "execution_count": 40,
   "id": "73c1de12",
   "metadata": {},
   "outputs": [
    {
     "name": "stdout",
     "output_type": "stream",
     "text": [
      "0 1 153 370 371 407 "
     ]
    }
   ],
   "source": [
    "ll=int(input(\"Enter lower range: \"))\n",
    "ul=int(input(\"Enter upper range: \"))\n",
    "for i in range(ll,ul+1):\n",
    "    num=i\n",
    "    sum=0\n",
    "    while num!=0:\n",
    "        digit=num%10\n",
    "        digit_cube=digit**3\n",
    "        sum+=digit_cube\n",
    "        num=num//10\n",
    "    if sum==i:\n",
    "        print(i, end=' ')"
   ]
  },
  {
   "cell_type": "markdown",
   "id": "076da031",
   "metadata": {},
   "source": [
    "## Problem 14:Calculate the angle between the hour hand and minute hand.\n",
    "Note: There can be two angles between hands; we need to print a minimum of two. Also, we need to print the floor of the final result angle. For example, if the final angle is 10.61, we need to print 10.\n",
    "\n",
    "Input:\n",
    "H = 9 , M = 0\n",
    "Output:\n",
    "90\n",
    "Explanation:\n",
    "The minimum angle between hour and minute hand when the time is 9 is 90 degress."
   ]
  },
  {
   "cell_type": "code",
   "execution_count": 43,
   "id": "f28578e6",
   "metadata": {},
   "outputs": [
    {
     "name": "stdout",
     "output_type": "stream",
     "text": [
      "102\n"
     ]
    }
   ],
   "source": [
    "H=int(input(\"Enter hour: \"))\n",
    "M=int(input(\"Enter minute: \"))\n",
    "work_done_by_hr_hand= H*30 + M*0.5\n",
    "work_done_by_min_hand= M*6\n",
    "angle=abs(work_done_by_hr_hand-work_done_by_min_hand)\n",
    "if angle>180:\n",
    "    angle=360-angle\n",
    "print(math.floor(angle))"
   ]
  },
  {
   "cell_type": "markdown",
   "id": "f9d64f91",
   "metadata": {},
   "source": [
    "Problem 15:Given two rectangles, find if the given two rectangles overlap or not. A rectangle is denoted by providing the x and y coordinates of two points: the left top corner and the right bottom corner of the rectangle. Two rectangles sharing a side are considered overlapping. (L1 and R1 are the extreme points of the first rectangle and L2 and R2 are the extreme points of the second rectangle).\n",
    "Note: It may be assumed that the rectangles are parallel to the coordinate axis.\n",
    "\n"
   ]
  },
  {
   "cell_type": "markdown",
   "id": "377062b5",
   "metadata": {},
   "source": []
  },
  {
   "cell_type": "code",
   "execution_count": null,
   "id": "191335d1",
   "metadata": {},
   "outputs": [],
   "source": []
  }
 ],
 "metadata": {
  "kernelspec": {
   "display_name": ".venv (3.13.1)",
   "language": "python",
   "name": "python3"
  },
  "language_info": {
   "codemirror_mode": {
    "name": "ipython",
    "version": 3
   },
   "file_extension": ".py",
   "mimetype": "text/x-python",
   "name": "python",
   "nbconvert_exporter": "python",
   "pygments_lexer": "ipython3",
   "version": "3.13.1"
  }
 },
 "nbformat": 4,
 "nbformat_minor": 5
}
